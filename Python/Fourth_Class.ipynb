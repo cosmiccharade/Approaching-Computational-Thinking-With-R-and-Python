{
 "cells": [
  {
   "cell_type": "markdown",
   "id": "0d1a199e-67c7-4caf-9a30-5d660980e0f9",
   "metadata": {},
   "source": [
    "# Introduction to Python-4"
   ]
  },
  {
   "cell_type": "markdown",
   "id": "02cb17c2-dd4b-43b4-a1db-33752819c979",
   "metadata": {},
   "source": [
    "### Code to check if a number is prime or not."
   ]
  },
  {
   "cell_type": "code",
   "execution_count": 19,
   "id": "edaeef1e-7a2a-4f2b-b64c-5cd09b4c98ed",
   "metadata": {},
   "outputs": [
    {
     "name": "stdout",
     "output_type": "stream",
     "text": [
      "37643 is a prime\n"
     ]
    }
   ],
   "source": [
    "n = 37643\n",
    "for i in range(2,n):\n",
    "    if n % i == 0:\n",
    "        d = False\n",
    "        print(f\"{n} is not a prime.\")\n",
    "        break\n",
    "    else:\n",
    "        d = True\n",
    "if d:\n",
    "    print(f\"{n} is a prime\")"
   ]
  },
  {
   "cell_type": "markdown",
   "id": "c6529927-0cc4-4720-81db-d477ce0c6d57",
   "metadata": {},
   "source": [
    "### Create a list of primes smaller than or equal to n"
   ]
  },
  {
   "cell_type": "code",
   "execution_count": 40,
   "id": "c10c1011-6531-4c13-b81a-e806d6de60ba",
   "metadata": {},
   "outputs": [
    {
     "name": "stdout",
     "output_type": "stream",
     "text": [
      "[2, 3, 5, 7]\n"
     ]
    }
   ],
   "source": [
    "n = 10\n",
    "primes = []\n",
    "for j in range(2,n+1):\n",
    "    d = True\n",
    "    if j == 2 or j == 3:\n",
    "        d = True\n",
    "    else:\n",
    "        for i in range(2, int(pow(j,0.5)) + 1):\n",
    "            if j % i == 0:\n",
    "                d = False\n",
    "    if d:\n",
    "        primes.append(j)\n",
    "print(primes)"
   ]
  },
  {
   "cell_type": "code",
   "execution_count": 35,
   "id": "8e6b273d-e16d-48c7-9ce5-c17c0d03949c",
   "metadata": {},
   "outputs": [],
   "source": [
    "import matplotlib.pyplot as plt"
   ]
  },
  {
   "cell_type": "code",
   "execution_count": 41,
   "id": "e5426de0-9d7b-42ea-886a-b8e4f41a1e7e",
   "metadata": {},
   "outputs": [],
   "source": [
    "x = [i for i in range(1,len(primes)+1)]"
   ]
  },
  {
   "cell_type": "code",
   "execution_count": 44,
   "id": "316ce236-d8e1-46b8-8bc5-bb3be219a95e",
   "metadata": {},
   "outputs": [
    {
     "data": {
      "image/png": "[encoded data removed]",
      "text/plain": [
       "<Figure size 640x480 with 1 Axes>"
      ]
     },
     "metadata": {},
     "output_type": "display_data"
    }
   ],
   "source": [
    "plt.grid()\n",
    "plt.scatter(x,primes,color=\"red\")\n",
    "plt.show()"
   ]
  },
  {
   "cell_type": "markdown",
   "id": "6a5c2b66-7ee8-48a1-b1db-df75c8f3b746",
   "metadata": {},
   "source": [
    "### Functions"
   ]
  },
  {
   "cell_type": "code",
   "execution_count": 46,
   "id": "63e836fe-57e3-4e16-a9fc-413ab88c484f",
   "metadata": {},
   "outputs": [
    {
     "name": "stdout",
     "output_type": "stream",
     "text": [
      "It is odd\n"
     ]
    }
   ],
   "source": [
    "a = 5\n",
    "if a %2 == 0:\n",
    "    print(\"It is even\")\n",
    "else:\n",
    "    print(\"It is odd\")"
   ]
  },
  {
   "cell_type": "code",
   "execution_count": 47,
   "id": "8266b7e5-8e5c-4b89-8ec5-3177d6d7b3db",
   "metadata": {},
   "outputs": [],
   "source": [
    "def f(a):\n",
    "    if a % 2 == 0:\n",
    "        print(\"It is even\")\n",
    "    else:\n",
    "        print(\"It is odd\")"
   ]
  },
  {
   "cell_type": "code",
   "execution_count": 48,
   "id": "10202f2b-bbe4-43e4-a2ef-70fa9010febf",
   "metadata": {},
   "outputs": [
    {
     "name": "stdout",
     "output_type": "stream",
     "text": [
      "It is odd\n"
     ]
    }
   ],
   "source": [
    "f(7)"
   ]
  },
  {
   "cell_type": "code",
   "execution_count": 49,
   "id": "e432d28d-b1e0-47eb-897a-3d9696341076",
   "metadata": {},
   "outputs": [
    {
     "name": "stdout",
     "output_type": "stream",
     "text": [
      "It is even\n"
     ]
    }
   ],
   "source": [
    "f(100)"
   ]
  },
  {
   "cell_type": "code",
   "execution_count": 54,
   "id": "89b56dbb-3cab-460e-b238-09334ed0305d",
   "metadata": {},
   "outputs": [],
   "source": [
    "def prime_check(n):\n",
    "    if n == 2 or n == 3:\n",
    "        d = True\n",
    "    else:\n",
    "        for i in range(2,int(pow(n,0.5))+1):\n",
    "            if n % i == 0:\n",
    "                d = False\n",
    "                break\n",
    "            else:\n",
    "                d = True\n",
    "    return d"
   ]
  },
  {
   "cell_type": "code",
   "execution_count": 55,
   "id": "5c50d5e1-c82e-4142-ac3d-68cd6245596f",
   "metadata": {},
   "outputs": [
    {
     "data": {
      "text/plain": [
       "True"
      ]
     },
     "execution_count": 55,
     "metadata": {},
     "output_type": "execute_result"
    }
   ],
   "source": [
    "prime_check(37643)"
   ]
  },
  {
   "cell_type": "code",
   "execution_count": null,
   "id": "a74cb5d7-858c-4ee2-bb24-ea2ddb926441",
   "metadata": {},
   "outputs": [],
   "source": [
    "# n = 10\n",
    "# primes = []\n",
    "# for j in range(2,n+1):\n",
    "#     d = True\n",
    "#     if j == 2 or j == 3:\n",
    "#         d = True\n",
    "#     else:\n",
    "#         for i in range(2, int(pow(j,0.5)) + 1):\n",
    "#             if j % i == 0:\n",
    "#                 d = False\n",
    "#     if d:\n",
    "#         primes.append(j)\n",
    "# print(primes)"
   ]
  },
  {
   "cell_type": "code",
   "execution_count": 58,
   "id": "58060832-88e7-42b9-8f58-b46e84c54832",
   "metadata": {},
   "outputs": [
    {
     "name": "stdout",
     "output_type": "stream",
     "text": [
      "[2, 3, 5, 7, 11, 13, 17, 19, 23, 29, 31, 37, 41, 43, 47, 53, 59, 61, 67, 71, 73, 79, 83, 89, 97]\n"
     ]
    }
   ],
   "source": [
    "n = 100\n",
    "primes = []\n",
    "for j in range(2,n+1):\n",
    "    if prime_check(j):\n",
    "        primes.append(j)\n",
    "    else:\n",
    "        pass\n",
    "print(primes)"
   ]
  },
  {
   "cell_type": "markdown",
   "id": "fd688636-c02c-41cb-b294-d4b2d9bad617",
   "metadata": {},
   "source": [
    "Define a function to convert cencius to Faranhite scale:"
   ]
  },
  {
   "cell_type": "code",
   "execution_count": 59,
   "id": "177b3432-154a-4d93-afc2-1188ee1a4972",
   "metadata": {},
   "outputs": [],
   "source": [
    "def Fran_to_Cel(F):\n",
    "    C = 5*(F-32)/9\n",
    "    return C"
   ]
  },
  {
   "cell_type": "code",
   "execution_count": 60,
   "id": "7772206a-5e18-4fc9-b327-4f613555f775",
   "metadata": {},
   "outputs": [
    {
     "data": {
      "text/plain": [
       "37.77777777777778"
      ]
     },
     "execution_count": 60,
     "metadata": {},
     "output_type": "execute_result"
    }
   ],
   "source": [
    "Fran_to_Cel(100)"
   ]
  },
  {
   "cell_type": "code",
   "execution_count": 61,
   "id": "afc8872a-70fc-4aa7-97a8-7db77afc7ba2",
   "metadata": {},
   "outputs": [],
   "source": [
    "def f(x):\n",
    "    return x**2"
   ]
  },
  {
   "cell_type": "code",
   "execution_count": 62,
   "id": "9fda8ec5-7813-4b37-aec7-0d3e96387d6c",
   "metadata": {},
   "outputs": [
    {
     "data": {
      "text/plain": [
       "10000"
      ]
     },
     "execution_count": 62,
     "metadata": {},
     "output_type": "execute_result"
    }
   ],
   "source": [
    "f(100)"
   ]
  },
  {
   "cell_type": "markdown",
   "id": "da043548-9c79-46c2-a9f9-1e99019060be",
   "metadata": {},
   "source": [
    "#### Write a function to make a list in ascending order. The function should take a list as input"
   ]
  },
  {
   "cell_type": "markdown",
   "id": "91fbf790-fca0-4268-a69e-3f9dd5940d01",
   "metadata": {},
   "source": [
    "How to swap two variable values?"
   ]
  },
  {
   "cell_type": "code",
   "execution_count": 63,
   "id": "3a6aaf4b-68ea-47a1-8d0c-2067e02aa585",
   "metadata": {},
   "outputs": [],
   "source": [
    "x = 2\n",
    "y = 3"
   ]
  },
  {
   "cell_type": "code",
   "execution_count": 64,
   "id": "9696bea5-8202-4357-a64f-2b9f5c99a2d0",
   "metadata": {},
   "outputs": [
    {
     "name": "stdout",
     "output_type": "stream",
     "text": [
      "x = 3 and y = 2\n"
     ]
    }
   ],
   "source": [
    "x, y = y, x\n",
    "print(f\"x = {x} and y = {y}\")"
   ]
  },
  {
   "cell_type": "code",
   "execution_count": 70,
   "id": "9106df51-676f-43bd-9fd8-009c6edf0d0a",
   "metadata": {},
   "outputs": [],
   "source": [
    "def asen(lis):# Bubblesort\n",
    "    n = len(lis)\n",
    "    for i in range(n - 1):\n",
    "        for j in range(0, n - i -1):\n",
    "            if lis[j] > lis[j + 1]:\n",
    "                lis[j],lis[j+1] = lis[j + 1],lis[j]\n",
    "    return lis"
   ]
  },
  {
   "cell_type": "code",
   "execution_count": 80,
   "id": "4a60fcff-70d6-4b84-8902-3ff161d3339e",
   "metadata": {},
   "outputs": [
    {
     "data": {
      "text/plain": [
       "[1, 3, 5, 100]"
      ]
     },
     "execution_count": 80,
     "metadata": {},
     "output_type": "execute_result"
    }
   ],
   "source": [
    "list1 = [3,1,100,5]\n",
    "asen(list1)"
   ]
  },
  {
   "cell_type": "code",
   "execution_count": 79,
   "id": "e39f56f5-a5de-4c40-af1c-3914ee023e38",
   "metadata": {},
   "outputs": [
    {
     "name": "stdout",
     "output_type": "stream",
     "text": [
      "[1, 3, 5, 100]\n"
     ]
    }
   ],
   "source": [
    "list1.sort()\n",
    "print(list1)"
   ]
  },
  {
   "cell_type": "code",
   "execution_count": 93,
   "id": "3789235b-e71d-4e95-914f-f8f8dd540e98",
   "metadata": {},
   "outputs": [],
   "source": [
    "def quardratic_soln(a,b,c):\n",
    "    sq = b**2 - 4*a*c\n",
    "    # print(sq)\n",
    "    if sq > 0:\n",
    "        print(\"There are two solutions\")\n",
    "        x1 = (-b + pow(sq,0.5))/(2*a)\n",
    "        x2 = (-b - pow(sq,0.5))/(2*a)\n",
    "        print(f\" x1 = {x1} and x2 = {x2}\")\n",
    "    elif sq == 0:\n",
    "        print(\"There is only 1 solution\")\n",
    "        x = -(b/(2*a))\n",
    "        print(f\"x = {x}\")\n",
    "    else:\n",
    "        print(\"The solutions are imaginary\")\n",
    "        x1 = (-b + pow(sq,0.5))/(2*a)\n",
    "        x2 = (-b - pow(sq,0.5))/(2*a)\n",
    "        print(f\" x1 = {x1} and x2 = {x2}\")"
   ]
  },
  {
   "cell_type": "code",
   "execution_count": 94,
   "id": "1401e65a-43ed-4360-aa9b-6101b97eafa3",
   "metadata": {},
   "outputs": [
    {
     "name": "stdout",
     "output_type": "stream",
     "text": [
      "The solutions are imaginary\n",
      " x1 = (6.123233995736766e-17+1j) and x2 = (-6.123233995736766e-17-1j)\n"
     ]
    }
   ],
   "source": [
    "quardratic_soln(1, 0, 1)"
   ]
  },
  {
   "cell_type": "markdown",
   "id": "b44d1c98-baf6-4ae2-828a-7a50f659e2e6",
   "metadata": {},
   "source": [
    "Give any date and It will tell you what day it is:"
   ]
  },
  {
   "cell_type": "code",
   "execution_count": 107,
   "id": "484536af-679e-4d85-b074-93c4df891057",
   "metadata": {},
   "outputs": [
    {
     "name": "stdout",
     "output_type": "stream",
     "text": [
      "Date is : 28 / 1 / 2024\n",
      "The day is  Sunday\n"
     ]
    }
   ],
   "source": [
    "import math\n",
    "M = 1\n",
    "D = 28\n",
    "year = 2024\n",
    "mon_31_days = [1,3,5,7,8,10,12]\n",
    "mon_30_days = [2,4,6, 9, 11]\n",
    "days = [\"Sunday\",\"Monday\",\"Tuesday\", \"Wednesday\",\"Thursday\",\"Friday\",\"Saturday\"]\n",
    "if M > 12:\n",
    "    print(\"Wrong Month --  It should be in 1 to 12\")\n",
    "else:\n",
    "    if M in range(3,13):\n",
    "        m = M - 2\n",
    "    else:\n",
    "        m = M + 10\n",
    "    if (M in mon_31_days) and D > 31:\n",
    "        print(\" Day num can't be greater than 31 for the given month\")\n",
    "    elif (M in mon_30_days) and D > 30:\n",
    "        print(\" Day num can't be greater than 30 for the given month\")\n",
    "    elif M == 2 and D > 29:\n",
    "        print(\"Feb can't have greater than 29 days\")\n",
    "    else:\n",
    "        print(f\"Date is : {D} / {M} / {year}\")\n",
    "        if m in range(11,13):\n",
    "            year1 = year -1\n",
    "        else:\n",
    "            year1 = year\n",
    "        y = year1 % 100\n",
    "        c  = (year1 - y)/100\n",
    "        w = D + math.floor((2.6)*m - 0.2) - 2*c + y + math.floor(c/4) + math.floor(y/4)\n",
    "        k = int(w % 7)\n",
    "        print(\"The day is \", days[k])"
   ]
  },
  {
   "cell_type": "code",
   "execution_count": null,
   "id": "4a22f797-6db8-4a2b-b28d-65a241be19cb",
   "metadata": {},
   "outputs": [],
   "source": []
  }
 ],
 "metadata": {
  "kernelspec": {
   "display_name": "Python 3 (ipykernel)",
   "language": "python",
   "name": "python3"
  },
  "language_info": {
   "codemirror_mode": {
    "name": "ipython",
    "version": 3
   },
   "file_extension": ".py",
   "mimetype": "text/x-python",
   "name": "python",
   "nbconvert_exporter": "python",
   "pygments_lexer": "ipython3",
   "version": "3.12.0"
  }
 },
 "nbformat": 4,
 "nbformat_minor": 5
}
