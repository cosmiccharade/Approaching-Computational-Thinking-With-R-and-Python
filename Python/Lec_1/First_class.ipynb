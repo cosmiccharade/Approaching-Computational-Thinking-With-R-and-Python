{
 "cells": [
  {
   "cell_type": "markdown",
   "id": "412471e6-3703-48b5-b9ce-30a7fd22179e",
   "metadata": {},
   "source": [
    "# Introduction to Basic Python-1"
   ]
  },
  {
   "cell_type": "markdown",
   "id": "869e5000-7224-48d2-96bf-aa3c4fda4183",
   "metadata": {},
   "source": [
    "### What is Python?"
   ]
  },
  {
   "cell_type": "markdown",
   "id": "8dff661a-1dd7-436c-92ee-e9514fe0fab5",
   "metadata": {},
   "source": [
    "Python is an interpreted, object-oriented, high-level programming language with dynamic semantics. Its high-level built in data structures, combined with dynamic typing and dynamic binding, make it very attractive for Rapid Application Development, as well as for use as a scripting or glue language to connect existing components together."
   ]
  },
  {
   "cell_type": "markdown",
   "id": "b6c7b11a-bb57-41df-a9d1-00a10b731bbd",
   "metadata": {},
   "source": [
    "### Advantages of Python over other languages"
   ]
  },
  {
   "cell_type": "markdown",
   "id": "147f6d59-bec3-4d73-88e2-0fd05e5804ae",
   "metadata": {},
   "source": [
    "1. Python is a simple and easy to use language.\n",
    "2. It is **free** and compatible with various platforms.\n",
    "3. **Object Oriented Programming** -- can do wonders and in python it is very easy to do.\n",
    "4. It has large number of libraries and frameworks to work around it's weaknesses.\n",
    "5. Have many buildin data structures.\n",
    "6. Wide Applications.\n",
    "7. Huge and very supporting community."
   ]
  },
  {
   "attachments": {},
   "cell_type": "markdown",
   "id": "9e19303b-9397-457c-a74a-37b5251f1612",
   "metadata": {},
   "source": [
    "<img src=\"python_with_mod.jpeg\" alt=\"drawing\" style=\"width:650px;\"/>"
   ]
  },
  {
   "cell_type": "markdown",
   "id": "f72a1bf5-4cc5-4c15-b9ad-d0583a6c6361",
   "metadata": {},
   "source": [
    "<img src=\"Interest_in_physics.jpg\" alt=\"drawing\" style=\"width:600px;\"/>"
   ]
  },
  {
   "cell_type": "markdown",
   "id": "08768489-e45e-4960-a63d-ae6a4c7109e3",
   "metadata": {},
   "source": [
    "I know it will be boring initially but in the end , you will understand all these will be worth your time. So, just sit back and enjoy this ride."
   ]
  },
  {
   "cell_type": "markdown",
   "id": "c179769c-15dd-44b8-9471-51c1b6b5737d",
   "metadata": {},
   "source": [
    "**I will do my best to teach.... Just do your best while learning new things**"
   ]
  },
  {
   "cell_type": "markdown",
   "id": "1c5251c8-cbcc-4b31-85ed-735731dde7b9",
   "metadata": {},
   "source": [
    "### Data Type in Python"
   ]
  },
  {
   "cell_type": "markdown",
   "id": "0b771384-da82-4899-a352-d8a7f06a21fb",
   "metadata": {},
   "source": [
    "<img src=\"data-types-in-python.jpg\" alt=\"drawing\" style=\"width:650px;\"/>"
   ]
  },
  {
   "cell_type": "code",
   "execution_count": 1,
   "id": "ede42805-3bfd-4919-b0b3-37c8164194b9",
   "metadata": {},
   "outputs": [
    {
     "data": {
      "text/plain": [
       "'String'"
      ]
     },
     "execution_count": 1,
     "metadata": {},
     "output_type": "execute_result"
    }
   ],
   "source": [
    "'String'"
   ]
  },
  {
   "cell_type": "code",
   "execution_count": 2,
   "id": "82a0e0b2-e943-4116-8d54-fd7b7c067e14",
   "metadata": {},
   "outputs": [
    {
     "data": {
      "text/plain": [
       "str"
      ]
     },
     "execution_count": 2,
     "metadata": {},
     "output_type": "execute_result"
    }
   ],
   "source": [
    "type(\"string\")"
   ]
  },
  {
   "cell_type": "code",
   "execution_count": 3,
   "id": "e42e3960-d8ec-4deb-912f-0a3bf26cb3af",
   "metadata": {},
   "outputs": [
    {
     "data": {
      "text/plain": [
       "builtin_function_or_method"
      ]
     },
     "execution_count": 3,
     "metadata": {},
     "output_type": "execute_result"
    }
   ],
   "source": [
    "type(print)"
   ]
  },
  {
   "cell_type": "code",
   "execution_count": 4,
   "id": "4006c1d3-253e-4887-840f-dd6d1583f6fb",
   "metadata": {},
   "outputs": [
    {
     "name": "stdout",
     "output_type": "stream",
     "text": [
      "Cosmic\n",
      "<class 'str'>\n"
     ]
    }
   ],
   "source": [
    "print(\"Cosmic\")\n",
    "print(type(\"Cosmic\"))"
   ]
  },
  {
   "cell_type": "code",
   "execution_count": 8,
   "id": "20ea948a-ab95-44e7-aa7d-f0fa5ab21d37",
   "metadata": {},
   "outputs": [
    {
     "name": "stdout",
     "output_type": "stream",
     "text": [
      "Cosmic \n"
     ]
    }
   ],
   "source": [
    "print(A)"
   ]
  },
  {
   "cell_type": "code",
   "execution_count": 7,
   "id": "a0935407-1060-4202-ba61-0437023f037d",
   "metadata": {},
   "outputs": [
    {
     "name": "stdout",
     "output_type": "stream",
     "text": [
      "Cosmic \n",
      "<class 'str'>\n"
     ]
    }
   ],
   "source": [
    "A = \"Cosmic \"\n",
    "B = \"Charade\"\n",
    "print(A)\n",
    "print(type(A))"
   ]
  },
  {
   "cell_type": "code",
   "execution_count": 9,
   "id": "510fcb79-d2ad-4f9b-ba3d-b8f4ab53c23d",
   "metadata": {},
   "outputs": [
    {
     "name": "stdout",
     "output_type": "stream",
     "text": [
      "Cosmic Charade\n",
      "<class 'str'>\n",
      "Cosmic Cosmic Cosmic \n"
     ]
    }
   ],
   "source": [
    "print(A+B)\n",
    "print(type(A+B))\n",
    "print(A*3)\n",
    "C = A + B"
   ]
  },
  {
   "cell_type": "code",
   "execution_count": 10,
   "id": "4c476616-c51c-4225-8cb2-dbc4d13ee618",
   "metadata": {},
   "outputs": [
    {
     "data": {
      "text/plain": [
       "'Cosmic Charade'"
      ]
     },
     "execution_count": 10,
     "metadata": {},
     "output_type": "execute_result"
    }
   ],
   "source": [
    "C"
   ]
  },
  {
   "cell_type": "code",
   "execution_count": 11,
   "id": "1e8d7aa4-a1de-4938-9302-4fedcb0eb73a",
   "metadata": {},
   "outputs": [
    {
     "name": "stdout",
     "output_type": "stream",
     "text": [
      "5\n",
      "<class 'int'>\n"
     ]
    }
   ],
   "source": [
    "C = 5\n",
    "print(C)\n",
    "print(type(C))"
   ]
  },
  {
   "cell_type": "code",
   "execution_count": 13,
   "id": "8e8cb0c2-4ead-415e-81c2-00c26f9f3054",
   "metadata": {},
   "outputs": [
    {
     "name": "stdout",
     "output_type": "stream",
     "text": [
      "5.0\n",
      "<class 'float'>\n"
     ]
    }
   ],
   "source": [
    "C = 5.0\n",
    "print(C)\n",
    "print(type(C))"
   ]
  },
  {
   "cell_type": "code",
   "execution_count": 18,
   "id": "934d2554-4c6f-4223-8139-0205ea431bca",
   "metadata": {},
   "outputs": [
    {
     "data": {
      "text/plain": [
       "2.0"
      ]
     },
     "execution_count": 18,
     "metadata": {},
     "output_type": "execute_result"
    }
   ],
   "source": [
    "12//5.0"
   ]
  },
  {
   "cell_type": "code",
   "execution_count": 19,
   "id": "17b36668-09e9-4b1b-b131-d7a000306e36",
   "metadata": {},
   "outputs": [
    {
     "name": "stdout",
     "output_type": "stream",
     "text": [
      "<class 'float'>\n"
     ]
    }
   ],
   "source": [
    "print(type(2//5.0))"
   ]
  },
  {
   "cell_type": "code",
   "execution_count": 20,
   "id": "c511d891-1668-42e1-a9f6-ee3832f97d86",
   "metadata": {},
   "outputs": [
    {
     "name": "stdout",
     "output_type": "stream",
     "text": [
      "<class 'bool'>\n"
     ]
    }
   ],
   "source": [
    "print(type(True))"
   ]
  },
  {
   "cell_type": "code",
   "execution_count": 23,
   "id": "bc0d84ba-6ac1-49ee-a311-0090b6df4889",
   "metadata": {},
   "outputs": [
    {
     "name": "stdout",
     "output_type": "stream",
     "text": [
      "(-1+0j)\n"
     ]
    }
   ],
   "source": [
    "print(1j*1j)"
   ]
  },
  {
   "cell_type": "code",
   "execution_count": 24,
   "id": "63093c42-9c79-4d4f-aedb-e0198f0f8792",
   "metadata": {},
   "outputs": [
    {
     "name": "stdout",
     "output_type": "stream",
     "text": [
      "(2+3j)\n",
      "<class 'complex'>\n"
     ]
    }
   ],
   "source": [
    "z = 2+3j# complex(2,3)\n",
    "print(z)\n",
    "print(type(z))"
   ]
  },
  {
   "cell_type": "code",
   "execution_count": 25,
   "id": "888d65f0-49f8-4ec1-9006-d240ab09d040",
   "metadata": {},
   "outputs": [
    {
     "data": {
      "text/plain": [
       "2.0"
      ]
     },
     "execution_count": 25,
     "metadata": {},
     "output_type": "execute_result"
    }
   ],
   "source": [
    "z.real"
   ]
  },
  {
   "cell_type": "code",
   "execution_count": 26,
   "id": "7e311d49-df64-43d8-a6d2-84950deb685e",
   "metadata": {},
   "outputs": [
    {
     "data": {
      "text/plain": [
       "3.0"
      ]
     },
     "execution_count": 26,
     "metadata": {},
     "output_type": "execute_result"
    }
   ],
   "source": [
    "z.imag"
   ]
  },
  {
   "cell_type": "markdown",
   "id": "5a314b91-053c-4461-b6ad-d305dcea1a01",
   "metadata": {},
   "source": [
    "### Basic Arithmatic"
   ]
  },
  {
   "cell_type": "code",
   "execution_count": 32,
   "id": "7cac3f67-a708-4deb-9464-61d195ffd086",
   "metadata": {},
   "outputs": [
    {
     "name": "stdout",
     "output_type": "stream",
     "text": [
      "a + b =  5\n",
      "a + b = c =  5 \n",
      " Just a test\n"
     ]
    }
   ],
   "source": [
    "a = 2\n",
    "b = 3\n",
    "# print(a+b)\n",
    "print(\"a + b = \",a+b)\n",
    "c = a + b\n",
    "print(\"a + b = c = \",c, \" Just a test\")"
   ]
  },
  {
   "cell_type": "code",
   "execution_count": 37,
   "id": "e7ceef11-0789-4f40-be14-c12ae643c767",
   "metadata": {},
   "outputs": [
    {
     "name": "stdout",
     "output_type": "stream",
     "text": [
      "2 + 3 =  5\n"
     ]
    }
   ],
   "source": [
    "print(\"%s + %s = \"%(a,b), a+b)"
   ]
  },
  {
   "cell_type": "code",
   "execution_count": 41,
   "id": "c561f136-7887-4f48-9bfd-a77f7680f298",
   "metadata": {},
   "outputs": [
    {
     "data": {
      "text/plain": [
       "4"
      ]
     },
     "execution_count": 41,
     "metadata": {},
     "output_type": "execute_result"
    }
   ],
   "source": [
    "2**2"
   ]
  },
  {
   "cell_type": "code",
   "execution_count": 47,
   "id": "6a1c955b-c651-4291-a50c-ab6a42fe51f3",
   "metadata": {},
   "outputs": [
    {
     "name": "stdout",
     "output_type": "stream",
     "text": [
      "Sum is  5\n",
      "Product is  6\n",
      "Division of 2 by 3 is 0.6666666666666666\n",
      "Taking 2 to the power of 3 is 8\n"
     ]
    }
   ],
   "source": [
    "print(\"Sum is \",a+b)\n",
    "print(\"Product is \",a*b)\n",
    "print(\"Division of %s by %s is\"%(a,b), a/b)\n",
    "print(f\"Taking {a} to the power of {b} is\",pow(a,b))"
   ]
  },
  {
   "cell_type": "code",
   "execution_count": 39,
   "id": "0352eab3-6c27-4671-a578-942163160902",
   "metadata": {},
   "outputs": [
    {
     "name": "stdout",
     "output_type": "stream",
     "text": [
      "2 and 3\n"
     ]
    }
   ],
   "source": [
    "print(f\"{a} and {b}\")"
   ]
  },
  {
   "cell_type": "code",
   "execution_count": 45,
   "id": "17fa6ad0-34a2-49fc-b421-05a87f8861fc",
   "metadata": {},
   "outputs": [
    {
     "name": "stdout",
     "output_type": "stream",
     "text": [
      "2\n",
      "8\n",
      "1\n"
     ]
    }
   ],
   "source": [
    "print(5%3)\n",
    "print(2**3)\n",
    "print(5//3)"
   ]
  },
  {
   "cell_type": "markdown",
   "id": "ffe9b6aa-44b8-4a65-8c16-6df710e5c687",
   "metadata": {},
   "source": [
    "### Basic Functions"
   ]
  },
  {
   "cell_type": "markdown",
   "id": "d6852c0d-df2a-4f7c-8b84-ed975ce705a3",
   "metadata": {},
   "source": [
    "There are 68 build-in function in python. We will see some of them in this lecture. Remaining ones will be covered in some later video."
   ]
  },
  {
   "cell_type": "code",
   "execution_count": 48,
   "id": "c02bff8d-828c-4624-aa99-b68e996c74c2",
   "metadata": {},
   "outputs": [
    {
     "name": "stdout",
     "output_type": "stream",
     "text": [
      "<class 'builtin_function_or_method'>\n"
     ]
    }
   ],
   "source": [
    "print(type(bin))"
   ]
  },
  {
   "cell_type": "code",
   "execution_count": 53,
   "id": "c1c29a17-c3e7-49dc-b6f7-58e36cdbf45c",
   "metadata": {},
   "outputs": [
    {
     "data": {
      "text/plain": [
       "'0b11101100110010001'"
      ]
     },
     "execution_count": 53,
     "metadata": {},
     "output_type": "execute_result"
    }
   ],
   "source": [
    "bin(121233) #Convert decimal to binary"
   ]
  },
  {
   "cell_type": "code",
   "execution_count": 55,
   "id": "9d3aaf67-6eab-443f-b3ad-8f5c01a480a2",
   "metadata": {},
   "outputs": [
    {
     "data": {
      "text/plain": [
       "7"
      ]
     },
     "execution_count": 55,
     "metadata": {},
     "output_type": "execute_result"
    }
   ],
   "source": [
    "len(\"cosmic\")#length"
   ]
  },
  {
   "cell_type": "code",
   "execution_count": 56,
   "id": "4b3c3aad-8159-4305-b547-5a007f0740bd",
   "metadata": {},
   "outputs": [
    {
     "data": {
      "text/plain": [
       "14"
      ]
     },
     "execution_count": 56,
     "metadata": {},
     "output_type": "execute_result"
    }
   ],
   "source": [
    "len(\"cosmic charade\")# space is also counted as a element"
   ]
  },
  {
   "cell_type": "code",
   "execution_count": 64,
   "id": "983d9c0c-0a7a-4134-a41d-6bf941e5ecf3",
   "metadata": {
    "scrolled": true
   },
   "outputs": [
    {
     "name": "stdout",
     "output_type": "stream",
     "text": [
      "3.2746374632746388e+16\n"
     ]
    }
   ],
   "source": [
    "a = str(6578346578435874376587437)\n",
    "len(a)\n",
    "b = \"32746374632746387\"\n",
    "print(float(b))"
   ]
  },
  {
   "cell_type": "code",
   "execution_count": 65,
   "id": "aacc964c-51de-4469-82e6-8f777827457f",
   "metadata": {},
   "outputs": [
    {
     "data": {
      "text/plain": [
       "3"
      ]
     },
     "execution_count": 65,
     "metadata": {},
     "output_type": "execute_result"
    }
   ],
   "source": [
    "len(str(100))"
   ]
  },
  {
   "cell_type": "code",
   "execution_count": 66,
   "id": "cbecbfc1-ce9b-413c-84f1-9874bcac0084",
   "metadata": {},
   "outputs": [
    {
     "data": {
      "text/plain": [
       "'100'"
      ]
     },
     "execution_count": 66,
     "metadata": {},
     "output_type": "execute_result"
    }
   ],
   "source": [
    "str(100)"
   ]
  },
  {
   "cell_type": "code",
   "execution_count": 69,
   "id": "8ec6509c-3e70-48cf-af36-837e19108d9d",
   "metadata": {},
   "outputs": [
    {
     "name": "stdout",
     "output_type": "stream",
     "text": [
      "My name is  Physics\n"
     ]
    }
   ],
   "source": [
    "a = \"Physics\"\n",
    "print(\"My name is \",a)"
   ]
  },
  {
   "cell_type": "code",
   "execution_count": 70,
   "id": "5a4784aa-1b1a-42ff-a58a-2fd4040780b9",
   "metadata": {},
   "outputs": [
    {
     "name": "stdin",
     "output_type": "stream",
     "text": [
      "What is your name? Austin\n"
     ]
    },
    {
     "name": "stdout",
     "output_type": "stream",
     "text": [
      "My name is  Austin\n"
     ]
    }
   ],
   "source": [
    "a = input(\"What is your name?\")\n",
    "print(\"My name is \",a)"
   ]
  },
  {
   "cell_type": "code",
   "execution_count": 71,
   "id": "8fc14cb3-0f14-44e8-b0ba-066a393879ef",
   "metadata": {},
   "outputs": [
    {
     "name": "stdin",
     "output_type": "stream",
     "text": [
      "Give the base value.  7\n",
      "Power?  2.7\n"
     ]
    },
    {
     "name": "stdout",
     "output_type": "stream",
     "text": [
      "7.0 to the power 2.7 =  191.32191007901343\n"
     ]
    }
   ],
   "source": [
    "b = float(input(\"Give the base value. \"))\n",
    "c = float(input(\"Power? \"))\n",
    "print(\"%s to the power %s = \"%(b,c),b**c)"
   ]
  },
  {
   "cell_type": "code",
   "execution_count": 73,
   "id": "958df630-5d74-4e63-aed8-65626d7e576d",
   "metadata": {},
   "outputs": [
    {
     "data": {
      "text/plain": [
       "(3, 0)"
      ]
     },
     "execution_count": 73,
     "metadata": {},
     "output_type": "execute_result"
    }
   ],
   "source": [
    "divmod(9,3)"
   ]
  },
  {
   "cell_type": "code",
   "execution_count": 74,
   "id": "1552f758-c876-45ff-9495-1e054d77aa85",
   "metadata": {},
   "outputs": [
    {
     "data": {
      "text/plain": [
       "2"
      ]
     },
     "execution_count": 74,
     "metadata": {},
     "output_type": "execute_result"
    }
   ],
   "source": [
    "round(2.2)"
   ]
  },
  {
   "cell_type": "code",
   "execution_count": 76,
   "id": "d99ae250-9f60-42f9-8b05-99a0bda07aea",
   "metadata": {},
   "outputs": [
    {
     "name": "stdin",
     "output_type": "stream",
     "text": [
      "Give the base value.  divmod(100,38)\n"
     ]
    },
    {
     "name": "stdout",
     "output_type": "stream",
     "text": [
      "(2, 24)\n"
     ]
    }
   ],
   "source": [
    "x = eval(input(\"Give the base value. \"))\n",
    "print(x)"
   ]
  },
  {
   "cell_type": "code",
   "execution_count": 77,
   "id": "2f961864-70ed-4afa-a77e-d379ab9a2d45",
   "metadata": {},
   "outputs": [
    {
     "data": {
      "text/plain": [
       "2"
      ]
     },
     "execution_count": 77,
     "metadata": {},
     "output_type": "execute_result"
    }
   ],
   "source": [
    "abs(-2)"
   ]
  },
  {
   "cell_type": "code",
   "execution_count": 78,
   "id": "248eebd3-2ff5-4036-a925-08b6e5dea6df",
   "metadata": {},
   "outputs": [
    {
     "data": {
      "text/plain": [
       "3.605551275463989"
      ]
     },
     "execution_count": 78,
     "metadata": {},
     "output_type": "execute_result"
    }
   ],
   "source": [
    "abs(2+3j)"
   ]
  },
  {
   "cell_type": "code",
   "execution_count": 79,
   "id": "f2dce38e-e1a8-4e99-bf59-c7cc1fa98da1",
   "metadata": {},
   "outputs": [
    {
     "ename": "NameError",
     "evalue": "name 'sin' is not defined",
     "output_type": "error",
     "traceback": [
      "\u001b[0;31m---------------------------------------------------------------------------\u001b[0m",
      "\u001b[0;31mNameError\u001b[0m                                 Traceback (most recent call last)",
      "Cell \u001b[0;32mIn[79], line 1\u001b[0m\n\u001b[0;32m----> 1\u001b[0m \u001b[43msin\u001b[49m(\u001b[38;5;241m3.141\u001b[39m)\n",
      "\u001b[0;31mNameError\u001b[0m: name 'sin' is not defined"
     ]
    }
   ],
   "source": [
    "sin(3.141)"
   ]
  },
  {
   "cell_type": "code",
   "execution_count": 80,
   "id": "a06b7587-1da7-46fb-8008-aacd22767656",
   "metadata": {},
   "outputs": [
    {
     "ename": "NameError",
     "evalue": "name 'pi' is not defined",
     "output_type": "error",
     "traceback": [
      "\u001b[0;31m---------------------------------------------------------------------------\u001b[0m",
      "\u001b[0;31mNameError\u001b[0m                                 Traceback (most recent call last)",
      "Cell \u001b[0;32mIn[80], line 1\u001b[0m\n\u001b[0;32m----> 1\u001b[0m \u001b[43mpi\u001b[49m\n",
      "\u001b[0;31mNameError\u001b[0m: name 'pi' is not defined"
     ]
    }
   ],
   "source": [
    "pi"
   ]
  },
  {
   "cell_type": "markdown",
   "id": "1ee74ce7-57a7-4169-914d-7987d1c55717",
   "metadata": {},
   "source": [
    "### Useful libraries : **math** and **mpmath**"
   ]
  },
  {
   "cell_type": "code",
   "execution_count": 81,
   "id": "2a6478a2-9460-4e31-b8f9-883a5a1eaec3",
   "metadata": {},
   "outputs": [],
   "source": [
    "import math as m"
   ]
  },
  {
   "cell_type": "code",
   "execution_count": 82,
   "id": "09b46664-dc6c-4d3f-964b-3a2b965ea9b7",
   "metadata": {},
   "outputs": [
    {
     "data": {
      "text/plain": [
       "3.141592653589793"
      ]
     },
     "execution_count": 82,
     "metadata": {},
     "output_type": "execute_result"
    }
   ],
   "source": [
    "m.pi"
   ]
  },
  {
   "cell_type": "code",
   "execution_count": 83,
   "id": "065d1b2c-151f-4f5c-a8a7-222bea104e98",
   "metadata": {},
   "outputs": [
    {
     "data": {
      "text/plain": [
       "-1.0"
      ]
     },
     "execution_count": 83,
     "metadata": {},
     "output_type": "execute_result"
    }
   ],
   "source": [
    "m.cos(m.pi)"
   ]
  },
  {
   "cell_type": "code",
   "execution_count": 94,
   "id": "7b766b9c-bcd5-489c-ab8b-76cce50a8114",
   "metadata": {},
   "outputs": [
    {
     "data": {
      "text/plain": [
       "0.9999999999999999"
      ]
     },
     "execution_count": 94,
     "metadata": {},
     "output_type": "execute_result"
    }
   ],
   "source": [
    "m.tan(m.pi/4)"
   ]
  },
  {
   "cell_type": "code",
   "execution_count": 95,
   "id": "76a05a58-c29a-4506-8d8d-f428ad095aaf",
   "metadata": {},
   "outputs": [
    {
     "data": {
      "text/plain": [
       "False"
      ]
     },
     "execution_count": 95,
     "metadata": {},
     "output_type": "execute_result"
    }
   ],
   "source": [
    "1 == m.tan(m.pi/4)"
   ]
  },
  {
   "cell_type": "code",
   "execution_count": 84,
   "id": "0cf85c5c-a39c-4b91-80d9-ec8f0db53830",
   "metadata": {},
   "outputs": [
    {
     "data": {
      "text/plain": [
       "1.4142135623730951"
      ]
     },
     "execution_count": 84,
     "metadata": {},
     "output_type": "execute_result"
    }
   ],
   "source": [
    "m.sqrt(2)"
   ]
  },
  {
   "cell_type": "code",
   "execution_count": 85,
   "id": "8ccccc8a-434d-4a25-82e4-c14a84467d07",
   "metadata": {},
   "outputs": [
    {
     "data": {
      "text/plain": [
       "3.141592653589793"
      ]
     },
     "execution_count": 85,
     "metadata": {},
     "output_type": "execute_result"
    }
   ],
   "source": [
    "m.pi"
   ]
  },
  {
   "cell_type": "code",
   "execution_count": 88,
   "id": "bc93e1aa-36d7-4740-8995-e8e316fe2b37",
   "metadata": {},
   "outputs": [
    {
     "data": {
      "text/plain": [
       "0.30102999566398114"
      ]
     },
     "execution_count": 88,
     "metadata": {},
     "output_type": "execute_result"
    }
   ],
   "source": [
    "m.log(2,10)"
   ]
  },
  {
   "cell_type": "code",
   "execution_count": 89,
   "id": "01780a8d-2ad1-4eed-956c-79b6cd5cfd6c",
   "metadata": {},
   "outputs": [
    {
     "data": {
      "text/plain": [
       "4"
      ]
     },
     "execution_count": 89,
     "metadata": {},
     "output_type": "execute_result"
    }
   ],
   "source": [
    "m.ceil(3.2)"
   ]
  },
  {
   "cell_type": "code",
   "execution_count": 90,
   "id": "6a606c35-5ab7-4196-a973-8e806c9af386",
   "metadata": {},
   "outputs": [
    {
     "data": {
      "text/plain": [
       "3"
      ]
     },
     "execution_count": 90,
     "metadata": {},
     "output_type": "execute_result"
    }
   ],
   "source": [
    "m.floor(3.2)"
   ]
  },
  {
   "cell_type": "code",
   "execution_count": 91,
   "id": "b253b250-7c64-482a-9415-8b1f19f789b5",
   "metadata": {},
   "outputs": [
    {
     "data": {
      "text/plain": [
       "50063860"
      ]
     },
     "execution_count": 91,
     "metadata": {},
     "output_type": "execute_result"
    }
   ],
   "source": [
    "m.comb(60,6)# n choose r"
   ]
  },
  {
   "cell_type": "code",
   "execution_count": 92,
   "id": "5557c044-9b30-47ad-8e23-4e2955d1f674",
   "metadata": {},
   "outputs": [
    {
     "data": {
      "text/plain": [
       "815915283247897734345611269596115894272000000000"
      ]
     },
     "execution_count": 92,
     "metadata": {},
     "output_type": "execute_result"
    }
   ],
   "source": [
    "m.factorial(40)"
   ]
  },
  {
   "cell_type": "code",
   "execution_count": 93,
   "id": "d1a9e42f-8efd-49df-8290-d055cbc63dc6",
   "metadata": {},
   "outputs": [
    {
     "data": {
      "text/plain": [
       "3"
      ]
     },
     "execution_count": 93,
     "metadata": {},
     "output_type": "execute_result"
    }
   ],
   "source": [
    "m.gcd(6,3)"
   ]
  },
  {
   "cell_type": "code",
   "execution_count": 96,
   "id": "b599c473-d47e-4e32-9d06-7d5a595ae6ad",
   "metadata": {},
   "outputs": [
    {
     "data": {
      "text/plain": [
       "True"
      ]
     },
     "execution_count": 96,
     "metadata": {},
     "output_type": "execute_result"
    }
   ],
   "source": [
    "m.isclose(3,2.999999999999999999)"
   ]
  },
  {
   "cell_type": "code",
   "execution_count": 97,
   "id": "b5e4596e-fd23-464c-a6be-fe73b441b44a",
   "metadata": {},
   "outputs": [
    {
     "data": {
      "text/plain": [
       "True"
      ]
     },
     "execution_count": 97,
     "metadata": {},
     "output_type": "execute_result"
    }
   ],
   "source": [
    "m.isfinite(4)"
   ]
  },
  {
   "cell_type": "code",
   "execution_count": 98,
   "id": "bec8f6e0-d40f-4da0-b7d5-49d4fd2840e0",
   "metadata": {},
   "outputs": [
    {
     "data": {
      "text/plain": [
       "5"
      ]
     },
     "execution_count": 98,
     "metadata": {},
     "output_type": "execute_result"
    }
   ],
   "source": [
    "m.isqrt(25)"
   ]
  },
  {
   "cell_type": "code",
   "execution_count": 99,
   "id": "2d552f86-0018-4de4-a4fd-1e2878fb3808",
   "metadata": {
    "scrolled": true
   },
   "outputs": [
    {
     "data": {
      "text/plain": [
       "180.0"
      ]
     },
     "execution_count": 99,
     "metadata": {},
     "output_type": "execute_result"
    }
   ],
   "source": [
    "m.degrees(m.pi)"
   ]
  },
  {
   "cell_type": "code",
   "execution_count": 100,
   "id": "643db5c6-97c0-43ad-8649-eb3fbb4a0bbd",
   "metadata": {},
   "outputs": [
    {
     "data": {
      "text/plain": [
       "inf"
      ]
     },
     "execution_count": 100,
     "metadata": {},
     "output_type": "execute_result"
    }
   ],
   "source": [
    "m.inf"
   ]
  },
  {
   "cell_type": "code",
   "execution_count": 101,
   "id": "a5bc9155-df9c-40ec-a9d6-64d716e6aff5",
   "metadata": {},
   "outputs": [
    {
     "data": {
      "text/plain": [
       "True"
      ]
     },
     "execution_count": 101,
     "metadata": {},
     "output_type": "execute_result"
    }
   ],
   "source": [
    "m.isinf(m.inf)"
   ]
  },
  {
   "cell_type": "code",
   "execution_count": 102,
   "id": "946935b3-4be0-4b6a-9cc3-3b46213a55d6",
   "metadata": {},
   "outputs": [
    {
     "data": {
      "text/plain": [
       "False"
      ]
     },
     "execution_count": 102,
     "metadata": {},
     "output_type": "execute_result"
    }
   ],
   "source": [
    "m.nan == m.nan"
   ]
  },
  {
   "cell_type": "code",
   "execution_count": 103,
   "id": "f15e3d39-1bb5-4d00-ac0a-bbcde7a1ed46",
   "metadata": {},
   "outputs": [
    {
     "data": {
      "text/plain": [
       "3.141592653589793"
      ]
     },
     "execution_count": 103,
     "metadata": {},
     "output_type": "execute_result"
    }
   ],
   "source": [
    "m.pi"
   ]
  },
  {
   "cell_type": "code",
   "execution_count": 105,
   "id": "0582a3bc-f6ec-42ef-9a7c-a940dfd6050c",
   "metadata": {},
   "outputs": [],
   "source": [
    "import mpmath as mp\n",
    "mp.dps = 50"
   ]
  },
  {
   "cell_type": "code",
   "execution_count": 108,
   "id": "c941175b-5948-42d7-8544-d523f47b666d",
   "metadata": {},
   "outputs": [
    {
     "data": {
      "text/plain": [
       "<pi: 3.14159~>"
      ]
     },
     "execution_count": 108,
     "metadata": {},
     "output_type": "execute_result"
    }
   ],
   "source": [
    "mp.pi"
   ]
  },
  {
   "cell_type": "code",
   "execution_count": 109,
   "id": "06ff5b62-27ed-450c-bc29-54807edbc091",
   "metadata": {},
   "outputs": [],
   "source": [
    "from mpmath import *"
   ]
  },
  {
   "cell_type": "code",
   "execution_count": 122,
   "id": "5a8685ef-4fda-4eba-9bb9-56d6f367a430",
   "metadata": {},
   "outputs": [],
   "source": [
    "mp.dps = 1000; mp.pretty = True"
   ]
  },
  {
   "cell_type": "code",
   "execution_count": 123,
   "id": "bc0387d7-bb79-4fe8-af95-782e81636acd",
   "metadata": {},
   "outputs": [
    {
     "data": {
      "text/plain": [
       "3.141592653589793238462643383279502884197169399375105820974944592307816406286208998628034825342117067982148086513282306647093844609550582231725359408128481117450284102701938521105559644622948954930381964428810975665933446128475648233786783165271201909145648566923460348610454326648213393607260249141273724587006606315588174881520920962829254091715364367892590360011330530548820466521384146951941511609433057270365759591953092186117381932611793105118548074462379962749567351885752724891227938183011949129833673362440656643086021394946395224737190702179860943702770539217176293176752384674818467669405132000568127145263560827785771342757789609173637178721468440901224953430146549585371050792279689258923542019956112129021960864034418159813629774771309960518707211349999998372978049951059731732816096318595024459455346908302642522308253344685035261931188171010003137838752886587533208381420617177669147303598253490428755468731159562863882353787593751957781857780532171226806613001927876611195909216420199"
      ]
     },
     "execution_count": 123,
     "metadata": {},
     "output_type": "execute_result"
    }
   ],
   "source": [
    "+pi"
   ]
  },
  {
   "cell_type": "code",
   "execution_count": 124,
   "id": "47fde5ad-a1a6-4d6f-9a09-b4ced6434346",
   "metadata": {},
   "outputs": [
    {
     "data": {
      "text/plain": [
       "<Golden ratio phi: 1.61803~>"
      ]
     },
     "execution_count": 124,
     "metadata": {},
     "output_type": "execute_result"
    }
   ],
   "source": [
    "phi"
   ]
  },
  {
   "cell_type": "code",
   "execution_count": 125,
   "id": "a580c75f-85d6-45ab-b2d4-24a77c5b45ab",
   "metadata": {},
   "outputs": [
    {
     "data": {
      "text/plain": [
       "1.618033988749894848204586834365638117720309179805762862135448622705260462818902449707207204189391137484754088075386891752126633862223536931793180060766726354433389086595939582905638322661319928290267880675208766892501711696207032221043216269548626296313614438149758701220340805887954454749246185695364864449241044320771344947049565846788509874339442212544877066478091588460749988712400765217057517978834166256249407589069704000281210427621771117778053153171410117046665991466979873176135600670874807101317952368942752194843530567830022878569978297783478458782289110976250030269615617002504643382437764861028383126833037242926752631165339247316711121158818638513316203840052221657912866752946549068113171599343235973494985090409476213222981017261070596116456299098162905552085247903524060201727997471753427775927786256194320827505131218156285512224809394712341451702237358057727861600868838295230459264787801788992199027077690389532196819861514378031499741106926088674296226757560523172777520353613936"
      ]
     },
     "execution_count": 125,
     "metadata": {},
     "output_type": "execute_result"
    }
   ],
   "source": [
    "+phi"
   ]
  },
  {
   "cell_type": "code",
   "execution_count": 126,
   "id": "dc397197-8c89-41b3-be6e-68c0bb3dd14a",
   "metadata": {},
   "outputs": [
    {
     "data": {
      "text/plain": [
       "0.6931471805599453094172321214581765680755001343602552541206800094933936219696947156058633269964186875420014810205706857336855202357581305570326707516350759619307275708283714351903070386238916734711233501153644979552391204751726815749320651555247341395258829504530070953263666426541042391578149520437404303855008019441706416715186447128399681717845469570262716310645461502572074024816377733896385506952606683411372738737229289564935470257626520988596932019650585547647033067936544325476327449512504060694381471046899465062201677204245245296126879465461931651746813926725041038025462596568691441928716082938031727143677826548775664850856740776484514644399404614226031930967354025744460703080960850474866385231381816767514386674766478908814371419854942315199735488037516586127535291661000710535582498794147295092931138971559982056543928717000721808576102523688921324497138932037843935308877482597017155910708823683627589842589185353024363421436706118923678919237231467232172053401649256872747782344535348"
      ]
     },
     "execution_count": 126,
     "metadata": {},
     "output_type": "execute_result"
    }
   ],
   "source": [
    "ln(2)"
   ]
  },
  {
   "cell_type": "code",
   "execution_count": 127,
   "id": "4424aa82-94d4-4af3-8f0d-dde796164710",
   "metadata": {},
   "outputs": [
    {
     "data": {
      "text/plain": [
       "1.0"
      ]
     },
     "execution_count": 127,
     "metadata": {},
     "output_type": "execute_result"
    }
   ],
   "source": [
    "tan(pi/4)"
   ]
  },
  {
   "cell_type": "code",
   "execution_count": 129,
   "id": "fecb3ecf-6d66-40bc-bbdb-0406ef510975",
   "metadata": {},
   "outputs": [
    {
     "data": {
      "text/plain": [
       "(1.28247 + 0.982794j)"
      ]
     },
     "execution_count": 129,
     "metadata": {},
     "output_type": "execute_result"
    }
   ],
   "source": [
    "mp.dps = 6\n",
    "ln(2+3j)"
   ]
  },
  {
   "cell_type": "code",
   "execution_count": 130,
   "id": "eb74c088-1e13-44c8-9df6-767ae5559a5b",
   "metadata": {},
   "outputs": [
    {
     "data": {
      "text/plain": [
       "1.77245"
      ]
     },
     "execution_count": 130,
     "metadata": {},
     "output_type": "execute_result"
    }
   ],
   "source": [
    "gamma(1/2)"
   ]
  },
  {
   "cell_type": "code",
   "execution_count": 131,
   "id": "c40c0850-927f-4a1c-9b57-3f69cea80daf",
   "metadata": {},
   "outputs": [
    {
     "data": {
      "text/plain": [
       "1.64493"
      ]
     },
     "execution_count": 131,
     "metadata": {},
     "output_type": "execute_result"
    }
   ],
   "source": [
    "zeta(2)"
   ]
  },
  {
   "cell_type": "code",
   "execution_count": 132,
   "id": "c2078bcf-bef5-4ec9-a8eb-e3c2d59a1c10",
   "metadata": {},
   "outputs": [
    {
     "data": {
      "text/plain": [
       "1.64493"
      ]
     },
     "execution_count": 132,
     "metadata": {},
     "output_type": "execute_result"
    }
   ],
   "source": [
    "pi**2/6"
   ]
  },
  {
   "cell_type": "code",
   "execution_count": 135,
   "id": "0a3ff7b1-bb35-416f-92a9-26f65c55984c",
   "metadata": {},
   "outputs": [
    {
     "data": {
      "text/plain": [
       "(0.5 + 56.4463j)"
      ]
     },
     "execution_count": 135,
     "metadata": {},
     "output_type": "execute_result"
    }
   ],
   "source": [
    "zetazero(12)"
   ]
  },
  {
   "cell_type": "code",
   "execution_count": 136,
   "id": "d7fc3287-02f8-403b-a349-afd8a2aa864c",
   "metadata": {},
   "outputs": [
    {
     "data": {
      "text/plain": [
       "3.54225e+20"
      ]
     },
     "execution_count": 136,
     "metadata": {},
     "output_type": "execute_result"
    }
   ],
   "source": [
    "fibonacci(100)"
   ]
  },
  {
   "cell_type": "code",
   "execution_count": 138,
   "id": "e070c1ee-8858-4922-9b16-d24e8c841188",
   "metadata": {},
   "outputs": [
    {
     "data": {
      "image/png": "[encoded data removed]",
      "text/plain": [
       "<Figure size 640x480 with 1 Axes>"
      ]
     },
     "metadata": {},
     "output_type": "display_data"
    }
   ],
   "source": [
    "plot(zeta,[-5,5])"
   ]
  },
  {
   "cell_type": "code",
   "execution_count": 139,
   "id": "4e0eaa90-fcb0-456c-b1a2-c52f6d8892e7",
   "metadata": {
    "scrolled": true
   },
   "outputs": [
    {
     "data": {
      "image/png": "[encoded data removed]",
      "text/plain": [
       "<Figure size 640x480 with 1 Axes>"
      ]
     },
     "metadata": {},
     "output_type": "display_data"
    }
   ],
   "source": [
    "plot([floor,ceil,abs],[-5,5])"
   ]
  },
  {
   "cell_type": "code",
   "execution_count": 153,
   "id": "c023b31e-885d-4a3f-998c-b56f026d26c0",
   "metadata": {},
   "outputs": [
    {
     "data": {
      "image/png": "[encoded data removed]",
      "text/plain": [
       "<Figure size 640x480 with 1 Axes>"
      ]
     },
     "metadata": {},
     "output_type": "display_data"
    }
   ],
   "source": [
    "plot([sin,cos],[-5,5])"
   ]
  },
  {
   "cell_type": "code",
   "execution_count": 140,
   "id": "599653ed-1ada-4c2d-a80a-bf355f68dd03",
   "metadata": {},
   "outputs": [
    {
     "data": {
      "image/png": "[encoded data removed]",
      "text/plain": [
       "<Figure size 640x480 with 1 Axes>"
      ]
     },
     "metadata": {},
     "output_type": "display_data"
    }
   ],
   "source": [
    "j0 = lambda x:besselj(0,x)\n",
    "j1 = lambda x:besselj(1,x)\n",
    "j2 = lambda x:besselj(2,x)\n",
    "plot([j0,j1,j2],[0,14])"
   ]
  },
  {
   "cell_type": "code",
   "execution_count": 141,
   "id": "d9a7d631-c705-4f36-87f7-9cd778e1597c",
   "metadata": {},
   "outputs": [
    {
     "data": {
      "image/png": "[encoded data removed]",
      "text/plain": [
       "<Figure size 640x480 with 1 Axes>"
      ]
     },
     "metadata": {},
     "output_type": "display_data"
    }
   ],
   "source": [
    "mp.dps = 7\n",
    "cplot(lambda z: bessely(1,z), [-8,8],[-8,8], points= 10_000)"
   ]
  },
  {
   "cell_type": "code",
   "execution_count": 143,
   "id": "6935e9e4-2e5c-4752-8d8f-b51c3d691cad",
   "metadata": {},
   "outputs": [
    {
     "data": {
      "text/plain": [
       "3.141592653589793238462643383279502884197169399375105820974944592307816406286208998628034825342117068"
      ]
     },
     "execution_count": 143,
     "metadata": {},
     "output_type": "execute_result"
    }
   ],
   "source": [
    "mp.dps = 100\n",
    "+pi"
   ]
  },
  {
   "cell_type": "code",
   "execution_count": 144,
   "id": "0ffbadae-62dc-4577-af77-930030021e54",
   "metadata": {},
   "outputs": [
    {
     "name": "stdout",
     "output_type": "stream",
     "text": [
      "3.1415926535897932384626433832795028841971693993751058209749445923078164062862089986280348253421170679792791937115226692085949465490548709839060209231597619246425874000113324538054221467726677465625349950296903118215865071443907786151663060075955120126173659262766750659125674523023863213779427634719798589912898023612797260284423828125\n"
     ]
    }
   ],
   "source": [
    "nprint(pi,1000)"
   ]
  },
  {
   "cell_type": "code",
   "execution_count": 146,
   "id": "78e20491-ca1d-4e8e-ba02-66ebe4751594",
   "metadata": {},
   "outputs": [
    {
     "name": "stdout",
     "output_type": "stream",
     "text": [
      "[0.0, 1.0, 0.0, -0.166667, 0.0, 0.00833333]\n"
     ]
    }
   ],
   "source": [
    "nprint(chop(taylor(sin,0,5)))"
   ]
  },
  {
   "cell_type": "code",
   "execution_count": 147,
   "id": "fca4d0cb-570d-41bb-be58-35941a6e1dce",
   "metadata": {},
   "outputs": [],
   "source": [
    "c,s = fourier(lambda m:m, [-pi,pi],5)"
   ]
  },
  {
   "cell_type": "code",
   "execution_count": 148,
   "id": "ff5ae0d4-8871-40df-82ac-7c89f78a896c",
   "metadata": {},
   "outputs": [
    {
     "data": {
      "text/plain": [
       "[0.0, 0.0, 0.0, 0.0, 0.0, 0.0]"
      ]
     },
     "execution_count": 148,
     "metadata": {},
     "output_type": "execute_result"
    }
   ],
   "source": [
    "c"
   ]
  },
  {
   "cell_type": "code",
   "execution_count": 149,
   "id": "4b0d05d8-2da1-4dd4-be09-31af2122cf12",
   "metadata": {},
   "outputs": [
    {
     "data": {
      "text/plain": [
       "[0.0,\n",
       " 2.0,\n",
       " -1.0,\n",
       " 0.6666666666666666666666666666666666666666666666666666666666666666666666666666666666666666666666666667,\n",
       " -0.5,\n",
       " 0.4]"
      ]
     },
     "execution_count": 149,
     "metadata": {},
     "output_type": "execute_result"
    }
   ],
   "source": [
    "s"
   ]
  },
  {
   "cell_type": "code",
   "execution_count": 150,
   "id": "891a44ae-c616-4f6c-9639-afc133d189fc",
   "metadata": {},
   "outputs": [],
   "source": [
    "c,s = fourier(lambda m: cos(m), [-pi,pi],5)"
   ]
  },
  {
   "cell_type": "code",
   "execution_count": 151,
   "id": "f5533ab3-9e15-450d-9699-01fba990feb7",
   "metadata": {},
   "outputs": [
    {
     "data": {
      "text/plain": [
       "[0.0, 1.0, 0.0, 0.0, 0.0, 0.0]"
      ]
     },
     "execution_count": 151,
     "metadata": {},
     "output_type": "execute_result"
    }
   ],
   "source": [
    "c"
   ]
  },
  {
   "cell_type": "code",
   "execution_count": 152,
   "id": "96a5df18-dd65-4beb-ab3a-23152874b08b",
   "metadata": {},
   "outputs": [
    {
     "data": {
      "text/plain": [
       "[0.0, 0.0, 0.0, 0.0, 0.0, 0.0]"
      ]
     },
     "execution_count": 152,
     "metadata": {},
     "output_type": "execute_result"
    }
   ],
   "source": [
    "s"
   ]
  },
  {
   "cell_type": "code",
   "execution_count": null,
   "id": "356d339e-3efd-4be9-ba4a-53ad613a9b02",
   "metadata": {},
   "outputs": [],
   "source": []
  }
 ],
 "metadata": {
  "kernelspec": {
   "display_name": "Python 3 (ipykernel)",
   "language": "python",
   "name": "python3"
  },
  "language_info": {
   "codemirror_mode": {
    "name": "ipython",
    "version": 3
   },
   "file_extension": ".py",
   "mimetype": "text/x-python",
   "name": "python",
   "nbconvert_exporter": "python",
   "pygments_lexer": "ipython3",
   "version": "3.12.0"
  }
 },
 "nbformat": 4,
 "nbformat_minor": 5
}
